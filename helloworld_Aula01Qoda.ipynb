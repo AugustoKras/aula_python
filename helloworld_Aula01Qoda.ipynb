{
  "nbformat": 4,
  "nbformat_minor": 0,
  "metadata": {
    "colab": {
      "name": "helloworld.ipynb",
      "provenance": [],
      "private_outputs": true,
      "collapsed_sections": [],
      "toc_visible": true,
      "include_colab_link": true
    },
    "kernelspec": {
      "name": "python3",
      "display_name": "Python 3"
    },
    "accelerator": "GPU"
  },
  "cells": [
    {
      "cell_type": "markdown",
      "metadata": {
        "id": "view-in-github",
        "colab_type": "text"
      },
      "source": [
        "<a href=\"https://colab.research.google.com/github/AugustoKras/aula_python/blob/master/helloworld_Aula01Qoda.ipynb\" target=\"_parent\"><img src=\"https://colab.research.google.com/assets/colab-badge.svg\" alt=\"Open In Colab\"/></a>"
      ]
    },
    {
      "cell_type": "code",
      "metadata": {
        "id": "0gKH9NLgFRqw",
        "colab_type": "code",
        "colab": {}
      },
      "source": [
        "print(\"Hello World\")"
      ],
      "execution_count": 0,
      "outputs": []
    },
    {
      "cell_type": "code",
      "metadata": {
        "id": "W37yhEMVFpb-",
        "colab_type": "code",
        "colab": {}
      },
      "source": [
        "x = input(\"Hello \" )\n",
        "print(f\"Hello {x}\")"
      ],
      "execution_count": 0,
      "outputs": []
    },
    {
      "cell_type": "markdown",
      "metadata": {
        "id": "wrBz3IS7IzJn",
        "colab_type": "text"
      },
      "source": [
        "# **>>> Exercícios**\n",
        "---\n",
        "1.   Crie seu primeiro programa em Python printando uma mensagem de sua escolha.\n",
        "\n",
        "\n",
        "\n",
        "\n"
      ]
    },
    {
      "cell_type": "code",
      "metadata": {
        "id": "NfjmtunzJOSW",
        "colab_type": "code",
        "colab": {}
      },
      "source": [
        "var = input(\"Larri \")\n",
        "print(f\"Larri {var}\")\n"
      ],
      "execution_count": 0,
      "outputs": []
    },
    {
      "cell_type": "code",
      "metadata": {
        "id": "-cQRUULphS3v",
        "colab_type": "code",
        "colab": {}
      },
      "source": [
        "from google.colab import drive\n",
        "drive.mount('/content/drive')"
      ],
      "execution_count": 0,
      "outputs": []
    },
    {
      "cell_type": "code",
      "metadata": {
        "id": "HZ3oKG7fA8b3",
        "colab_type": "code",
        "colab": {}
      },
      "source": [
        "print(\"Bom dia Augusto! Como você está hoje?\")"
      ],
      "execution_count": 0,
      "outputs": []
    },
    {
      "cell_type": "code",
      "metadata": {
        "id": "Kkafv61GBC3b",
        "colab_type": "code",
        "colab": {}
      },
      "source": [
        "x = input(\"Bom dia! Como você se chama? \")\n",
        "print(f\"Bom dia, {x} !!!! \")"
      ],
      "execution_count": 0,
      "outputs": []
    }
  ]
}